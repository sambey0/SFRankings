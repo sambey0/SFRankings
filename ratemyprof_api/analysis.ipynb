# Import necessary libraries
import pandas as pd

# Load the dataset
file_path = './professors_data_ny_schools.csv'
data = pd.read_csv(file_path)

# Group the data by institution and calculate the average overall rating for each institution
institution_ratings = data.groupby('institution_name')['overall_rating'].mean().reset_index()

# Sort the institutions by the average rating in descending order
institution_ratings_sorted = institution_ratings.sort_values(by='overall_rating', ascending=False)

# Display the sorted dataframe
print(institution_ratings_sorted.head())  # You can display this DataFrame in the notebook

